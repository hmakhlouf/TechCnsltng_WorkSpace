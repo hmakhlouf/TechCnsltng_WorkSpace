{
 "cells": [
  {
   "cell_type": "code",
   "execution_count": null,
   "metadata": {},
   "outputs": [],
   "source": [
    "import jaydebeapi\n",
    "\n",
    "# Database connection details for AWS EC2 instance\n",
    "database_url = 'jdbc:postgresql://your-ec2-instance-ip:5432/your-database-name'\n",
    "database_user = 'your-aws-database-user'\n",
    "database_password = 'your-aws-database-password'\n",
    "table_name = 'your-table-name'\n",
    "\n",
    "# Path to the PostgreSQL JDBC driver (download from https://jdbc.postgresql.org/)\n",
    "jdbc_driver_jar = '/path/to/pgjdbc.jar'\n",
    "\n",
    "# Establish a JDBC connection\n",
    "connection = jaydebeapi.connect(\n",
    "    'org.postgresql.Driver',\n",
    "    database_url,\n",
    "    [database_user, database_password],\n",
    "    jdbc_driver_jar\n",
    ")\n",
    "\n",
    "# Create a cursor\n",
    "cursor = connection.cursor()\n",
    "\n",
    "# Local path to the CSV file\n",
    "csv_file_path = 'path/to/your/csvfile.csv'\n",
    "\n",
    "# Read CSV file into a DataFrame (using pandas for simplicity)\n",
    "import pandas as pd\n",
    "df = pd.read_csv(csv_file_path)\n",
    "\n",
    "# Push DataFrame to the database\n",
    "df.to_sql(name=table_name, con=connection, index=False, if_exists='replace', method='multi')\n",
    "\n",
    "# Close the cursor and connection\n",
    "cursor.close()\n",
    "connection.close()"
   ]
  }
 ],
 "metadata": {
  "kernelspec": {
   "display_name": "Python 3 (ipykernel)",
   "language": "python",
   "name": "python3"
  },
  "language_info": {
   "codemirror_mode": {
    "name": "ipython",
    "version": 3
   },
   "file_extension": ".py",
   "mimetype": "text/x-python",
   "name": "python",
   "nbconvert_exporter": "python",
   "pygments_lexer": "ipython3",
   "version": "3.7.4"
  }
 },
 "nbformat": 4,
 "nbformat_minor": 2
}
