{
 "cells": [
  {
   "cell_type": "code",
   "execution_count": 1,
   "metadata": {},
   "outputs": [
    {
     "data": {
      "text/plain": [
       "Intitializing Scala interpreter ..."
      ]
     },
     "metadata": {},
     "output_type": "display_data"
    },
    {
     "data": {
      "text/plain": [
       "Spark Web UI available at http://192.168.1.154:4042\n",
       "SparkContext available as 'sc' (version = 3.2.1, master = local[*], app id = local-1709000031703)\n",
       "SparkSession available as 'spark'\n"
      ]
     },
     "metadata": {},
     "output_type": "display_data"
    },
    {
     "data": {
      "text/plain": [
       "import org.apache.spark.sql.SparkSession\n"
      ]
     },
     "execution_count": 1,
     "metadata": {},
     "output_type": "execute_result"
    }
   ],
   "source": [
    "import org.apache.spark.sql.SparkSession"
   ]
  },
  {
   "cell_type": "code",
   "execution_count": 2,
   "metadata": {},
   "outputs": [
    {
     "data": {
      "text/plain": [
       "defined object MySparkApp\n"
      ]
     },
     "execution_count": 2,
     "metadata": {},
     "output_type": "execute_result"
    }
   ],
   "source": [
    "object MySparkApp {\n",
    "  def main(args: Array[String]): Unit = {\n",
    "    val spark = SparkSession.builder()\n",
    "      .appName(\"My Spark Application\")\n",
    "      .config(\"spark.master\", \"local\")\n",
    "      .getOrCreate()\n",
    "\n",
    "    import spark.implicits._\n",
    "\n",
    "    // Example data\n",
    "    val dataSeq = Seq((\"Alice\", 1), (\"Bob\", 2), (\"Charlie\", 3))\n",
    "    val df = dataSeq.toDF(\"name\", \"id\")\n",
    "\n",
    "    // Collecting DataFrame to Array and printing\n",
    "    df.collect().foreach { row =>\n",
    "      println(s\"name: ${row.getAs[String](\"name\")}, id: ${row.getAs[Int](\"id\")}\")\n",
    "    }\n",
    "\n",
    "    spark.stop()\n",
    "  }\n",
    "}"
   ]
  },
  {
   "cell_type": "code",
   "execution_count": 3,
   "metadata": {},
   "outputs": [
    {
     "data": {
      "text/plain": [
       "res0: org.apache.spark.sql.SparkSession = org.apache.spark.sql.SparkSession@521b2917\n"
      ]
     },
     "execution_count": 3,
     "metadata": {},
     "output_type": "execute_result"
    }
   ],
   "source": [
    "spark"
   ]
  },
  {
   "cell_type": "code",
   "execution_count": null,
   "metadata": {},
   "outputs": [],
   "source": []
  }
 ],
 "metadata": {
  "kernelspec": {
   "display_name": "spylon-kernel",
   "language": "scala",
   "name": "spylon-kernel"
  },
  "language_info": {
   "codemirror_mode": "text/x-scala",
   "file_extension": ".scala",
   "help_links": [
    {
     "text": "MetaKernel Magics",
     "url": "https://metakernel.readthedocs.io/en/latest/source/README.html"
    }
   ],
   "mimetype": "text/x-scala",
   "name": "scala",
   "pygments_lexer": "scala",
   "version": "0.4.1"
  }
 },
 "nbformat": 4,
 "nbformat_minor": 2
}
